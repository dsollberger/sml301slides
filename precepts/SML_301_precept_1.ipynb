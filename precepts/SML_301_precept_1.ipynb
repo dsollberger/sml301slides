{
 "cells": [
  {
   "cell_type": "markdown",
   "id": "b4e8cb7e",
   "metadata": {},
   "source": [
    "# Precept 1\n",
    "## Spring 2025\n",
    "\n",
    "### Objectives\n",
    "\n",
    "* continue to explore more Python syntax\n",
    "* discuss some machine learning terminology\n",
    "* practice exploring a data set"
   ]
  },
  {
   "cell_type": "code",
   "execution_count": 9,
   "id": "e94f8801",
   "metadata": {},
   "outputs": [],
   "source": [
    "import numpy as np"
   ]
  },
  {
   "cell_type": "markdown",
   "id": "116592f5",
   "metadata": {},
   "source": [
    "# Indexing Data\n",
    "\n",
    "For each of the following lines of code, write a short code comment to describe it.  These codes come from section 2.3.6 of the *ISLP*, and you may refer to the textbook to aid you."
   ]
  },
  {
   "cell_type": "code",
   "execution_count": 10,
   "id": "cc7b1593",
   "metadata": {},
   "outputs": [],
   "source": [
    "#A = np.array(np.arange(16)).reshape((4, 4))\n",
    "#A[1,2]\n",
    "#A[[1,3]]\n",
    "#A[:,[0,2]]\n",
    "#idx = np.ix_([1,3],[0,2,3])\n",
    "#A[idx]\n",
    "#A[1:4:2 ,0:3:2]"
   ]
  },
  {
   "cell_type": "markdown",
   "id": "447300fb",
   "metadata": {},
   "source": [
    "# Classification or Regression\n",
    "\n",
    "## (*ISLP* Section 2.4, Conceptual Question 2)\n",
    "\n",
    "Explain whether each scenario is a classification or regression problem,\n",
    "and indicate whether we are most interested in inference or prediction. Also, indicate n and p (sample size and number of explanatory variables respectively)."
   ]
  },
  {
   "cell_type": "markdown",
   "id": "fa00d17c",
   "metadata": {},
   "source": [
    "### (a) \n",
    "\n",
    "\"We collect a set of data on the top 500 firms in the US. For each\n",
    "firm we record profit, number of employees, industry and the\n",
    "CEO salary. We are interested in understanding which factors\n",
    "affect CEO salary.\""
   ]
  },
  {
   "cell_type": "markdown",
   "id": "602a169d",
   "metadata": {},
   "source": [
    "### (b)\n",
    "\n",
    "\"We are considering launching a new product and wish to know\n",
    "whether it will be a success or a failure. We collect data on 20\n",
    "similar products that were previously launched. For each product\n",
    "we have recorded whether it was a success or failure, price\n",
    "charged for the product, marketing budget, competition price,\n",
    "and ten other variables.\""
   ]
  },
  {
   "cell_type": "markdown",
   "id": "55cef12e",
   "metadata": {},
   "source": [
    "### (c)\n",
    "\n",
    "\"We are interested in predicting the % change in the USD/Euro\n",
    "exchange rate in relation to the weekly changes in the world\n",
    "stock markets. Hence we collect weekly data for all of 2012. For\n",
    "each week we record the % change in the USD/Euro, the %\n",
    "change in the US market, the % change in the British market,\n",
    "and the % change in the German market.\""
   ]
  },
  {
   "cell_type": "markdown",
   "id": "c9ad6c78",
   "metadata": {},
   "source": [
    "# College Data\n",
    "\n",
    "## (*ISLP* Section 2.4, Applied Question 8)\n",
    "\n",
    "\"[These] exercises refer to the `College` data set ... It contains a number of variables for 777 different universities and colleges in the US\"\n",
    "\n",
    "Tips:\n",
    "\n",
    "* refer to this exercise in the *ISLP* textbook for a list of the variables\n",
    "* refer to sections 2.3.7 to 2.3.9 of *ISLP* for a thorough example"
   ]
  },
  {
   "cell_type": "markdown",
   "id": "39e45698",
   "metadata": {},
   "source": [
    "### (a)\n",
    "\n",
    "\"Use the `pd.read_csv()` function to read the data into Python. Call\n",
    "the loaded data `college`.\""
   ]
  },
  {
   "cell_type": "code",
   "execution_count": null,
   "id": "6de35628",
   "metadata": {},
   "outputs": [],
   "source": []
  },
  {
   "cell_type": "markdown",
   "id": "caff5bb8",
   "metadata": {},
   "source": [
    "### (b)\n",
    "\n",
    "\"Look at the data used in the notebook by creating and running\n",
    "a new cell with just the code `college` in it. You should notice\n",
    "that the first column is just the name of each university in a\n",
    "column named something like `Unnamed: 0`. We don’t really want\n",
    "`pandas` to treat this as data. However, it may be handy to have\n",
    "these names for later. Try the following commands and similarly\n",
    "look at the resulting data frames:"
   ]
  },
  {
   "cell_type": "code",
   "execution_count": 11,
   "id": "33de47b8",
   "metadata": {},
   "outputs": [],
   "source": [
    "#college2 = pd.read_csv('College.csv', index_col=0)\n",
    "#college3 = college.rename({'Unnamed: 0': 'College'},\n",
    "#axis=1)\n",
    "#college3 = college3.set_index('College')"
   ]
  },
  {
   "cell_type": "markdown",
   "id": "d244d098",
   "metadata": {},
   "source": [
    "\"This has used the first column in the file as an `index` for the\n",
    "data frame. This means that `pandas` has given each row a name\n",
    "corresponding to the appropriate university. Now you should see\n",
    "that the first data column is `Private`. Note that the names of\n",
    "the colleges appear on the left of the table. We also introduced\n",
    "a new python object above: a *dictionary*, which is specified by dictionary\n",
    "`(key, value)` pairs. Keep your modified version of the data with\n",
    "the following:\""
   ]
  },
  {
   "cell_type": "code",
   "execution_count": 12,
   "id": "6beec633",
   "metadata": {},
   "outputs": [],
   "source": [
    "#college = college3"
   ]
  },
  {
   "cell_type": "markdown",
   "id": "44736562",
   "metadata": {},
   "source": [
    "### (c)\n",
    "\n",
    "\"Use the `describe()` method of to produce a numerical summary\n",
    "of the variables in the data set.\""
   ]
  },
  {
   "cell_type": "code",
   "execution_count": null,
   "id": "41b8d8a4",
   "metadata": {},
   "outputs": [],
   "source": []
  },
  {
   "cell_type": "markdown",
   "id": "c78444e6",
   "metadata": {},
   "source": [
    "### (d)\n",
    "\n",
    "\"Use the `pd.plotting.scatter_matrix()` function to produce a\n",
    "scatterplot matrix of the first columns `[Top10perc, Apps, Enroll]`.\""
   ]
  },
  {
   "cell_type": "code",
   "execution_count": null,
   "id": "1589c919",
   "metadata": {},
   "outputs": [],
   "source": []
  },
  {
   "cell_type": "markdown",
   "id": "b499a23b",
   "metadata": {},
   "source": [
    "### (e)\n",
    "\"Use the `boxplot()` method of `college` to produce side-by-side\n",
    "boxplots of `Outstate` versus `Private`.\""
   ]
  },
  {
   "cell_type": "code",
   "execution_count": null,
   "id": "c17f7d77",
   "metadata": {},
   "outputs": [],
   "source": []
  },
  {
   "cell_type": "markdown",
   "id": "bbc49205",
   "metadata": {},
   "source": [
    "### (f)\n",
    "\n",
    "\"Create a new qualitative variable, called `Elite`, by binning the\n",
    "`Top10perc` variable into two groups based on whether or not the\n",
    "proportion of students coming from the top 10% of their high\n",
    "school classes exceeds 50%. Use the `value_counts()` method of `college['Elite']` to see how\n",
    "many elite universities there are."
   ]
  },
  {
   "cell_type": "code",
   "execution_count": 13,
   "id": "1b2534fd",
   "metadata": {},
   "outputs": [],
   "source": [
    "#college['Elite'] = pd.cut(college['Top10perc'], [0,0.5,1], labels=['No', 'Yes'])"
   ]
  },
  {
   "cell_type": "markdown",
   "id": "9be68c35",
   "metadata": {},
   "source": [
    "### (g)\n",
    "\n",
    "\"Use the `plot.hist()` method of `college` to produce a histogram.\""
   ]
  },
  {
   "cell_type": "code",
   "execution_count": null,
   "id": "05d53258",
   "metadata": {},
   "outputs": [],
   "source": []
  }
 ],
 "metadata": {
  "kernelspec": {
   "display_name": "Python 3 (ipykernel)",
   "language": "python",
   "name": "python3"
  },
  "language_info": {
   "codemirror_mode": {
    "name": "ipython",
    "version": 3
   },
   "file_extension": ".py",
   "mimetype": "text/x-python",
   "name": "python",
   "nbconvert_exporter": "python",
   "pygments_lexer": "ipython3",
   "version": "3.9.13"
  }
 },
 "nbformat": 4,
 "nbformat_minor": 5
}
