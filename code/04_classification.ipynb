{
  "cells": [
    {
      "cell_type": "markdown",
      "metadata": {},
      "source": [
        "# SML 301\n",
        "\n",
        "## Session 4: Classification\n",
        "\n",
        "* logistic regression\n",
        "* Naive Bayes\n",
        "* confusion matrices"
      ]
    },
    {
      "cell_type": "code",
      "execution_count": null,
      "metadata": {
        "id": "6BWPyLD6Lo2Y"
      },
      "outputs": [],
      "source": [
        "#%pip install palmerpenguins #https://github.com/mcnakhaee/palmerpenguins"
      ]
    },
    {
      "cell_type": "code",
      "execution_count": null,
      "metadata": {
        "id": "Ri-sRplzL1KW"
      },
      "outputs": [],
      "source": [
        "import matplotlib.pyplot as plt\n",
        "import numpy as np\n",
        "import pandas as pd\n",
        "import seaborn as sns\n",
        "\n",
        "from palmerpenguins import load_penguins\n",
        "from sklearn import metrics\n",
        "from sklearn.linear_model import LogisticRegression\n",
        "from sklearn.metrics import classification_report\n",
        "from sklearn.metrics import confusion_matrix\n",
        "from sklearn.metrics import roc_auc_score\n",
        "from sklearn.metrics import roc_curve\n",
        "from sklearn.model_selection import train_test_split\n",
        "from sklearn.naive_bayes import GaussianNB"
      ]
    },
    {
      "cell_type": "code",
      "execution_count": null,
      "metadata": {
        "id": "kGv9nd4xL9JI"
      },
      "outputs": [],
      "source": [
        "penguins = load_penguins()\n",
        "type(penguins)"
      ]
    },
    {
      "cell_type": "markdown",
      "metadata": {
        "id": "KgFeUp1qPshf"
      },
      "source": [
        "## Data Cleaning"
      ]
    },
    {
      "cell_type": "code",
      "execution_count": null,
      "metadata": {
        "id": "d2fdr3rSMipD"
      },
      "outputs": [],
      "source": [
        "penguins['chinstrap_bool'] = np.where(penguins['species'] == 'Chinstrap', 1, 0)\n",
        "penguins.head()"
      ]
    },
    {
      "cell_type": "code",
      "execution_count": null,
      "metadata": {
        "id": "862dmkq6O2_t"
      },
      "outputs": [],
      "source": [
        "# remember to remove missing values before a machine learning algorithm\n",
        "penguins_subset = penguins[['chinstrap_bool', 'flipper_length_mm', 'bill_length_mm']].dropna()\n",
        "penguins_subset.head()"
      ]
    },
    {
      "cell_type": "markdown",
      "metadata": {
        "id": "E1GMWHK1Pvpx"
      },
      "source": [
        "# Logistic Regression"
      ]
    },
    {
      "cell_type": "markdown",
      "metadata": {
        "id": "ZDDQZa8dRXns"
      },
      "source": [
        "## One predictor variable"
      ]
    },
    {
      "cell_type": "code",
      "execution_count": null,
      "metadata": {
        "id": "zmp1da25Rab1"
      },
      "outputs": [],
      "source": [
        "X = penguins_subset[['flipper_length_mm']] #explanatory variable\n",
        "y = penguins_subset['chinstrap_bool'] #response variable (Boolean)"
      ]
    },
    {
      "cell_type": "code",
      "execution_count": null,
      "metadata": {
        "id": "z8D9O7gIRe4l"
      },
      "outputs": [],
      "source": [
        "#main code for logistic regression\n",
        "X_train, X_test, y_train, y_test = train_test_split(X, y, test_size=0.3, random_state=301)\n",
        "logreg = LogisticRegression()\n",
        "logreg.fit(X_train, y_train)"
      ]
    },
    {
      "cell_type": "code",
      "execution_count": null,
      "metadata": {
        "id": "2lGQ0XbERgFm"
      },
      "outputs": [],
      "source": [
        "# make predictions\n",
        "y_pred = logreg.predict(X_test)"
      ]
    },
    {
      "cell_type": "markdown",
      "metadata": {
        "id": "uEOBlGKiRl0G"
      },
      "source": [
        "## Confusion Matrix"
      ]
    },
    {
      "cell_type": "code",
      "execution_count": null,
      "metadata": {
        "id": "ccpmS_g1RlTu"
      },
      "outputs": [],
      "source": [
        "confusion_mat = confusion_matrix(y_test, y_pred)\n",
        "print(confusion_mat)"
      ]
    },
    {
      "cell_type": "code",
      "execution_count": null,
      "metadata": {
        "id": "PomXuhMZRyMc"
      },
      "outputs": [],
      "source": [
        "# metrics from a confusion matrix\n",
        "print(classification_report(y_test, y_pred))"
      ]
    },
    {
      "cell_type": "markdown",
      "metadata": {
        "id": "XHZ7lj3oQhR7"
      },
      "source": [
        "## Preview: ROC Curves\n",
        "\n",
        "ROC curves (receiver operating characteristic) are very popular for helping judge the quality of a classification computation.  "
      ]
    },
    {
      "cell_type": "code",
      "execution_count": null,
      "metadata": {
        "id": "jmjxWrZQQP2I"
      },
      "outputs": [],
      "source": [
        "logit_roc_auc = roc_auc_score(y_test, logreg.predict(X_test))\n",
        "fpr, tpr, thresholds = roc_curve(y_test, logreg.predict_proba(X_test)[:,1])\n",
        "plt.figure()\n",
        "plt.plot(fpr, tpr, label='Logistic Regression (area = %0.2f)' % logit_roc_auc)\n",
        "plt.plot([0, 1], [0, 1],'r--')\n",
        "plt.xlim([0.0, 1.0])\n",
        "plt.ylim([0.0, 1.05])\n",
        "plt.xlabel('False Positive Rate')\n",
        "plt.ylabel('True Positive Rate')\n",
        "plt.title('Receiver operating characteristic')\n",
        "plt.legend(loc=\"lower right\")\n",
        "plt.savefig('Log_ROC')\n",
        "plt.show()"
      ]
    },
    {
      "cell_type": "markdown",
      "metadata": {
        "id": "PLQx1nP-Rgux"
      },
      "source": [
        "## Two predictor variables"
      ]
    },
    {
      "cell_type": "code",
      "execution_count": null,
      "metadata": {
        "id": "xFDzkqLpNosI"
      },
      "outputs": [],
      "source": [
        "X = penguins_subset[['flipper_length_mm', 'bill_length_mm']] #explanatory variables\n",
        "y = penguins_subset['chinstrap_bool'] #response variable (Boolean)"
      ]
    },
    {
      "cell_type": "code",
      "execution_count": null,
      "metadata": {
        "id": "oAJUeaYHOXqd"
      },
      "outputs": [],
      "source": [
        "#main code for logistic regression\n",
        "X_train, X_test, y_train, y_test = train_test_split(X, y, test_size=0.3, random_state=301)\n",
        "logreg = LogisticRegression()\n",
        "logreg.fit(X_train, y_train)"
      ]
    },
    {
      "cell_type": "code",
      "execution_count": null,
      "metadata": {
        "id": "kJxFLnmWPjqc"
      },
      "outputs": [],
      "source": [
        "# make predictions\n",
        "y_pred = logreg.predict(X_test)"
      ]
    },
    {
      "cell_type": "code",
      "execution_count": null,
      "metadata": {
        "id": "xR0aYh6jP48V"
      },
      "outputs": [],
      "source": [
        "confusion_mat = confusion_matrix(y_test, y_pred)\n",
        "print(confusion_mat)"
      ]
    },
    {
      "cell_type": "code",
      "execution_count": null,
      "metadata": {
        "id": "TaeEoBWFQMsS"
      },
      "outputs": [],
      "source": [
        "# metrics from a confusion matrix\n",
        "print(classification_report(y_test, y_pred))"
      ]
    },
    {
      "cell_type": "code",
      "execution_count": null,
      "metadata": {
        "id": "yonekORTSlpO"
      },
      "outputs": [],
      "source": [
        "logit_roc_auc = roc_auc_score(y_test, logreg.predict(X_test))\n",
        "fpr, tpr, thresholds = roc_curve(y_test, logreg.predict_proba(X_test)[:,1])\n",
        "plt.figure()\n",
        "plt.plot(fpr, tpr, label='Logistic Regression (area = %0.2f)' % logit_roc_auc)\n",
        "plt.plot([0, 1], [0, 1],'r--')\n",
        "plt.xlim([0.0, 1.0])\n",
        "plt.ylim([0.0, 1.05])\n",
        "plt.xlabel('False Positive Rate')\n",
        "plt.ylabel('True Positive Rate')\n",
        "plt.title('Receiver operating characteristic')\n",
        "plt.legend(loc=\"lower right\")\n",
        "plt.savefig('Log_ROC')\n",
        "plt.show()"
      ]
    },
    {
      "cell_type": "markdown",
      "metadata": {
        "id": "OI3QMn7vSuwN"
      },
      "source": [
        "# Naive Bayes"
      ]
    },
    {
      "cell_type": "markdown",
      "metadata": {
        "id": "asxBiO0oT12J"
      },
      "source": [
        "## One categorical predictor"
      ]
    },
    {
      "cell_type": "code",
      "execution_count": null,
      "metadata": {
        "id": "Pn6_HMvrSxot"
      },
      "outputs": [],
      "source": [
        "mean_weight = penguins['body_mass_g'].mean()\n",
        "penguins['above_average_weight'] = np.where(penguins['body_mass_g'] > mean_weight, 1, 0)\n",
        "penguins_subset = penguins[['species', 'above_average_weight']].dropna()\n",
        "penguins_subset.head()\n",
        "X = penguins_subset[['above_average_weight']] #explanatory variable\n",
        "y = penguins_subset['species'] #response variable (Boolean)"
      ]
    },
    {
      "cell_type": "code",
      "execution_count": null,
      "metadata": {
        "id": "JE4PYUg0UQkP"
      },
      "outputs": [],
      "source": [
        "# main code for Naive Bayes\n",
        "X_train, X_test, y_train, y_test = train_test_split(X, y, test_size=0.3, random_state=301)\n",
        "NB_model = GaussianNB()\n",
        "NB_model.fit(X_train, y_train)\n",
        "y_pred = NB_model.predict(X_test)"
      ]
    },
    {
      "cell_type": "code",
      "execution_count": null,
      "metadata": {
        "id": "tiRff5pGV101"
      },
      "outputs": [],
      "source": [
        "# make one prediction\n",
        "print(NB_model.predict([[0]])) #here, \"0\" for \"below-average weight\""
      ]
    },
    {
      "cell_type": "code",
      "execution_count": null,
      "metadata": {
        "id": "HGQknSwaVOeO"
      },
      "outputs": [],
      "source": [
        "confusion_mat = confusion_matrix(y_test, y_pred)\n",
        "sns.heatmap(confusion_mat, annot=True, fmt='d', cmap='Blues', cbar=False)"
      ]
    },
    {
      "cell_type": "code",
      "execution_count": null,
      "metadata": {
        "id": "oFr5X3pYVcKB"
      },
      "outputs": [],
      "source": [
        "# metrics from a confusion matrix\n",
        "print(classification_report(y_test, y_pred))"
      ]
    },
    {
      "cell_type": "markdown",
      "metadata": {
        "id": "zWb5P8EKVmH2"
      },
      "source": [
        "# One numerical predictor"
      ]
    },
    {
      "cell_type": "code",
      "execution_count": null,
      "metadata": {
        "id": "CmmumvOJViGx"
      },
      "outputs": [],
      "source": [
        "penguins_subset = penguins[['species', 'bill_length_mm']].dropna()\n",
        "penguins_subset.head()\n",
        "X = penguins_subset[['bill_length_mm']] #explanatory variable\n",
        "y = penguins_subset['species'] #response variable (Boolean)"
      ]
    },
    {
      "cell_type": "code",
      "execution_count": null,
      "metadata": {
        "id": "Sk9lyyswWp_z"
      },
      "outputs": [],
      "source": [
        "# main code for Naive Bayes\n",
        "X_train, X_test, y_train, y_test = train_test_split(X, y, test_size=0.3, random_state=301)\n",
        "NB_model = GaussianNB()\n",
        "NB_model.fit(X_train, y_train)\n",
        "y_pred = NB_model.predict(X_test)"
      ]
    },
    {
      "cell_type": "code",
      "execution_count": null,
      "metadata": {
        "id": "s3glrMlYWsJs"
      },
      "outputs": [],
      "source": [
        "# make one prediction\n",
        "print(NB_model.predict([[50]]))"
      ]
    },
    {
      "cell_type": "code",
      "execution_count": null,
      "metadata": {
        "id": "Ald0y1kHXCNZ"
      },
      "outputs": [],
      "source": [
        "confusion_mat = confusion_matrix(y_test, y_pred)\n",
        "sns.heatmap(confusion_mat, annot=True, fmt='d', cmap='Blues', cbar=False)"
      ]
    },
    {
      "cell_type": "code",
      "execution_count": null,
      "metadata": {
        "id": "GoWNsxgsXEqL"
      },
      "outputs": [],
      "source": [
        "# metrics from a confusion matrix\n",
        "print(classification_report(y_test, y_pred))"
      ]
    },
    {
      "cell_type": "markdown",
      "metadata": {
        "id": "yDJr1cPJXJ0s"
      },
      "source": [
        "## Two predictor variables"
      ]
    },
    {
      "cell_type": "code",
      "execution_count": null,
      "metadata": {
        "id": "JY2NjpE7XLjF"
      },
      "outputs": [],
      "source": [
        "penguins_subset = penguins[['species', 'bill_length_mm', 'flipper_length_mm']].dropna()\n",
        "penguins_subset.head()\n",
        "X = penguins_subset[['bill_length_mm', 'flipper_length_mm']] #explanatory variables\n",
        "y = penguins_subset['species'] #response variable (Boolean)"
      ]
    },
    {
      "cell_type": "code",
      "execution_count": null,
      "metadata": {
        "id": "dAyZghUzXXnv"
      },
      "outputs": [],
      "source": [
        "# main code for Naive Bayes\n",
        "X_train, X_test, y_train, y_test = train_test_split(X, y, test_size=0.3, random_state=301)\n",
        "NB_model = GaussianNB()\n",
        "NB_model.fit(X_train, y_train)\n",
        "y_pred = NB_model.predict(X_test)"
      ]
    },
    {
      "cell_type": "code",
      "execution_count": null,
      "metadata": {
        "id": "QbDTrOQRXZLG"
      },
      "outputs": [],
      "source": [
        "# make one prediction\n",
        "print(NB_model.predict([[50, 195]]))"
      ]
    },
    {
      "cell_type": "code",
      "execution_count": null,
      "metadata": {
        "id": "cS8wjGTpXimg"
      },
      "outputs": [],
      "source": [
        "confusion_mat = confusion_matrix(y_test, y_pred)\n",
        "sns.heatmap(confusion_mat, annot=True, fmt='d', cmap='Blues', cbar=False)"
      ]
    },
    {
      "cell_type": "code",
      "execution_count": null,
      "metadata": {
        "id": "M37UrM1FXj78"
      },
      "outputs": [],
      "source": [
        "# metrics from a confusion matrix\n",
        "print(classification_report(y_test, y_pred))"
      ]
    }
  ],
  "metadata": {
    "colab": {
      "provenance": []
    },
    "kernelspec": {
      "display_name": "Python 3",
      "name": "python3"
    },
    "language_info": {
      "name": "python"
    }
  },
  "nbformat": 4,
  "nbformat_minor": 0
}
