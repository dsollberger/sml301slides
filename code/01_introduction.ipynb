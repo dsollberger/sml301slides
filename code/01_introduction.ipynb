{
 "cells": [
  {
   "cell_type": "markdown",
   "id": "12a6c95e",
   "metadata": {},
   "source": [
    "# SML 301: Data Intelligence\n",
    "## Lecture 1: Introduction\n",
    "\n",
    "In these code chunks, we will briefly talk about\n",
    "\n",
    "* installing libraries\n",
    "* regression and classification\n",
    "* sample statistics"
   ]
  },
  {
   "cell_type": "code",
   "execution_count": null,
   "id": "3d0a9225",
   "metadata": {
    "scrolled": true
   },
   "outputs": [],
   "source": [
    "# If need be, install the following packages\n",
    "#%pip install numpy\n",
    "#%pip install pandas\n",
    "#%pip install sklearn"
   ]
  },
  {
   "cell_type": "markdown",
   "id": "29a65939",
   "metadata": {},
   "source": [
    "## Python tutorial\n",
    "\n",
    "To the best of your present knowledge, what do each of the following lines of Python code do? What is the code output (if applicable)?\n",
    "\n",
    "* section 2.3.3 of *Introduction to Statistical Learning in Python*\n",
    "\n",
    "Leave a comment by each line of code in the following code chunk.  The first one has been done already."
   ]
  },
  {
   "cell_type": "code",
   "execution_count": null,
   "id": "ef9d3373",
   "metadata": {},
   "outputs": [],
   "source": [
    "import numpy as np #import numpy library and alias as np\n",
    "x = np.array([3, 4, 5])\n",
    "y = np.array([4, 9, 7])\n",
    "x + y\n",
    "\n",
    "x = np.array([[1, 2], [3, 4]])\n",
    "x.ndim\n",
    "x.shape\n",
    "\n",
    "x.dtype\n",
    "np.array([[1, 2], [3.0, 4]]).dtype\n",
    "\n",
    "x = np.array([1, 2, 3, 4])\n",
    "x.sum()\n",
    "x**2\n",
    "x**0.5"
   ]
  },
  {
   "cell_type": "code",
   "execution_count": null,
   "id": "774670de",
   "metadata": {},
   "outputs": [],
   "source": [
    "# Load libraries\n",
    "import pandas as pd\n",
    "\n",
    "from sklearn import datasets\n",
    "from sklearn.linear_model import LinearRegression, LogisticRegression\n",
    "from sklearn.datasets import make_regression\n",
    "from sklearn.preprocessing import StandardScaler\n"
   ]
  },
  {
   "cell_type": "markdown",
   "id": "7f0421d9",
   "metadata": {},
   "source": [
    "## Regression\n",
    "\n",
    "The following code comes from the *Python Cookbook*"
   ]
  },
  {
   "cell_type": "code",
   "execution_count": null,
   "id": "47087d9b",
   "metadata": {},
   "outputs": [],
   "source": [
    "features, target = make_regression(n_samples = 100,\n",
    "                                  n_features = 3,\n",
    "                                  n_informative = 2,\n",
    "                                  n_targets = 1,\n",
    "                                  noise = 0.2,\n",
    "                                  coef = False,\n",
    "                                  random_state = 301)\n",
    "\n",
    "regression_model = LinearRegression()\n",
    "model = regression_model.fit(features, target)\n",
    "\n",
    "# regression: predicts a number\n",
    "model.predict(features)[0]"
   ]
  },
  {
   "cell_type": "markdown",
   "id": "afcf176c",
   "metadata": {},
   "source": [
    "## Classification\n",
    "\n",
    "The following code comes from the *Python Cookbook*"
   ]
  },
  {
   "cell_type": "code",
   "execution_count": null,
   "id": "204252d5",
   "metadata": {},
   "outputs": [],
   "source": [
    "iris = datasets.load_iris()\n",
    "features = iris.data[:100, :]\n",
    "target = iris.target[:100]\n",
    "\n",
    "scaler = StandardScaler()\n",
    "features_standardized = scaler.fit_transform(features)\n",
    "\n",
    "logistic_model = LogisticRegression(random_state = 301)\n",
    "model = logistic_model.fit(features_standardized, target)\n",
    "\n",
    "# classification: predict a label\n",
    "new_observation = [[0.5, 0.5, 0.5, 0.5]]\n",
    "model.predict(new_observation)\n",
    "#model.predict_proba(new_observation)\n"
   ]
  },
  {
   "cell_type": "markdown",
   "id": "9c597918",
   "metadata": {},
   "source": [
    "## Sample Statistics,\n",
    "\n",
    "Let us try to summarize how long some SML 301 assignments take"
   ]
  },
  {
   "cell_type": "code",
   "execution_count": null,
   "id": "65377d71",
   "metadata": {},
   "outputs": [],
   "source": [
    "survey_data = pd.read_csv(\"https://raw.githubusercontent.com/dsollberger/sml301slides/refs/heads/main/data/SML301_durations.csv\")\n",
    "survey_data.head()"
   ]
  },
  {
   "cell_type": "code",
   "execution_count": null,
   "id": "8d27c83e",
   "metadata": {},
   "outputs": [],
   "source": [
    "# How long, in minutes, did the shortest precept assignment take?\n",
    "survey_data.shortest_precept.describe()"
   ]
  },
  {
   "cell_type": "code",
   "execution_count": null,
   "id": "4a563271",
   "metadata": {},
   "outputs": [],
   "source": [
    "# How long, in minutes, did the longest precept assignment take?\n",
    "survey_data.longest_precept.describe()"
   ]
  },
  {
   "cell_type": "code",
   "execution_count": null,
   "id": "5f459d73",
   "metadata": {},
   "outputs": [],
   "source": [
    "# How long, in hours, did the midsemester project take?\n",
    "survey_data.midsemester_project.describe()"
   ]
  }
 ],
 "metadata": {
  "kernelspec": {
   "display_name": "Python 3 (ipykernel)",
   "language": "python",
   "name": "python3"
  },
  "language_info": {
   "codemirror_mode": {
    "name": "ipython",
    "version": 3
   },
   "file_extension": ".py",
   "mimetype": "text/x-python",
   "name": "python",
   "nbconvert_exporter": "python",
   "pygments_lexer": "ipython3",
   "version": "3.9.13"
  }
 },
 "nbformat": 4,
 "nbformat_minor": 5
}
