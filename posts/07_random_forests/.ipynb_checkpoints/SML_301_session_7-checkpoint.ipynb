{
 "cells": [
  {
   "cell_type": "code",
   "execution_count": null,
   "metadata": {
    "id": "7fdwoyC87kaG"
   },
   "outputs": [],
   "source": [
    "#%pip install ISLP"
   ]
  },
  {
   "cell_type": "code",
   "execution_count": null,
   "metadata": {
    "id": "ds-xcMLP8RRn"
   },
   "outputs": [],
   "source": [
    "import numpy as np\n",
    "import pandas as pd\n",
    "from matplotlib.pyplot import subplots\n",
    "from ISLP import load_data , confusion_table\n",
    "from sklearn.ensemble import (RandomForestRegressor as RF,\n",
    "                              GradientBoostingRegressor as GBR)\n",
    "from sklearn.linear_model import LogisticRegression\n",
    "from sklearn.metrics import (accuracy_score,\n",
    "                             confusion_matrix)\n",
    "from sklearn.model_selection import train_test_split\n",
    "from sklearn.neighbors import KNeighborsClassifier as KNN\n",
    "from sklearn.preprocessing import OneHotEncoder\n",
    "from sklearn.tree import (DecisionTreeClassifier as DTC,\n",
    "                          DecisionTreeRegressor as DTR,\n",
    "                          plot_tree,\n",
    "                          export_text)"
   ]
  },
  {
   "cell_type": "code",
   "execution_count": null,
   "metadata": {
    "id": "SWLAjH7a8de4"
   },
   "outputs": [],
   "source": [
    "wage_raw = load_data(\"Wage\")\n",
    "wage_raw.head()"
   ]
  },
  {
   "cell_type": "code",
   "execution_count": null,
   "metadata": {
    "id": "vOv6YPwMAIfc"
   },
   "outputs": [],
   "source": [
    "# one-hot encoding (converting string format to something more numeric)\n",
    "cat_vars = ['maritl', 'race', 'education', 'region', 'jobclass', 'health_ins']\n",
    "wage_df = pd.get_dummies(wage_raw, columns = cat_vars)\n",
    "wage_df.head()"
   ]
  },
  {
   "cell_type": "markdown",
   "metadata": {
    "id": "MffPf9r7815O"
   },
   "source": [
    "# Classification\n",
    "\n",
    "* response variable: `health`\n",
    "* explanatory varibles: all except `logwage`"
   ]
  },
  {
   "cell_type": "code",
   "execution_count": null,
   "metadata": {
    "id": "qKee6FhJ8_Th"
   },
   "outputs": [],
   "source": [
    "X = wage_df.drop(['health', 'logwage'], axis = 1)\n",
    "y = wage_df['health']\n",
    "X_train, X_test, y_train, y_test = train_test_split(X, y, test_size = 0.30, random_state = 301)"
   ]
  },
  {
   "cell_type": "code",
   "execution_count": null,
   "metadata": {
    "id": "-e2SYYDD9TFL"
   },
   "outputs": [],
   "source": [
    "wage_tree = DTC(criterion='entropy', max_depth = 3, random_state = 301).fit(X_train, y_train)\n",
    "ax = subplots(figsize=(12,12))[1]\n",
    "plot_tree(wage_tree, feature_names = X_train.columns, ax = ax)"
   ]
  },
  {
   "cell_type": "markdown",
   "metadata": {
    "id": "jePy4fncBjY4"
   },
   "source": [
    "## Bagging\n",
    "\n",
    "The **bagging** idea employs a *random forest* with all of the explanatory variables"
   ]
  },
  {
   "cell_type": "code",
   "execution_count": null,
   "metadata": {
    "id": "Mt48tjLFBBxG"
   },
   "outputs": [],
   "source": [
    "# one-hot encoding (converting string format to something more numeric)\n",
    "cat_vars = ['maritl', 'race', 'education', 'region', 'jobclass', 'health', 'health_ins']\n",
    "wage_df = pd.get_dummies(wage_raw, columns = cat_vars)\n",
    "wage_df.columns\n",
    "\n",
    "X = wage_df.drop(['health_1. <=Good', 'health_2. >=Very Good', 'logwage'], axis = 1)\n",
    "y = wage_df['health_2. >=Very Good']\n",
    "X_train, X_test, y_train, y_test = train_test_split(X, y, test_size = 0.30, random_state = 301)\n",
    "\n",
    "bag_wage = RF(max_features = X_train.shape[1], #i.e. use all of the predictor variables\n",
    "                random_state = 301)\n",
    "bag_wage.fit(X_train, y_train)\n",
    "#y_pred = bag_wage.predict(X_test)\n",
    "#print(confusion_matrix(y_test, y_pred))\n",
    "#print(\"Accuracy: \", accuracy_score(y_test, y_pred))"
   ]
  },
  {
   "cell_type": "markdown",
   "metadata": {
    "id": "oT8QtfV5GnCI"
   },
   "source": [
    "We can arrange the explanatory variables in order of *importance*"
   ]
  },
  {
   "cell_type": "code",
   "execution_count": null,
   "metadata": {
    "id": "EeJwylsdGWB0"
   },
   "outputs": [],
   "source": [
    "feature_imp = pd.DataFrame({'importance':bag_wage.feature_importances_},\n",
    "                           index = X_train.columns)\n",
    "feature_imp.sort_values(by='importance', ascending=False)"
   ]
  },
  {
   "cell_type": "markdown",
   "metadata": {
    "id": "X8OIiNT2HIpg"
   },
   "source": [
    "# Regression Trees\n",
    "\n",
    "* response variable: `logwage`\n",
    "* explanatory varibles: all except `wage`\n"
   ]
  },
  {
   "cell_type": "code",
   "execution_count": null,
   "metadata": {
    "id": "K6G3J-AbG786"
   },
   "outputs": [],
   "source": [
    "# one-hot encoding (converting string format to something more numeric)\n",
    "cat_vars = ['maritl', 'race', 'education', 'region', 'jobclass', 'health', 'health_ins']\n",
    "wage_df = pd.get_dummies(wage_raw, columns = cat_vars)\n",
    "wage_df.columns\n",
    "\n",
    "X = wage_df.drop(['logwage', 'wage'], axis = 1)\n",
    "y = wage_df['logwage']\n",
    "X_train, X_test, y_train, y_test = train_test_split(X, y, test_size = 0.30, random_state = 301)"
   ]
  },
  {
   "cell_type": "markdown",
   "metadata": {
    "id": "pBnlAaL2HzfU"
   },
   "source": [
    "## Boosting"
   ]
  },
  {
   "cell_type": "code",
   "execution_count": null,
   "metadata": {
    "id": "s54cQGHPHzP0"
   },
   "outputs": [],
   "source": [
    "boost_wage = GBR(n_estimators = 500,\n",
    "                   learning_rate = 0.1,\n",
    "                   max_depth = 4,\n",
    "                   random_state = 301)\n",
    "boost_wage.fit(X_train, y_train)\n",
    "y_pred = boost_wage.predict(X_test)\n",
    "print(\"MSE:\", np.mean((y_test - y_pred)**2))"
   ]
  },
  {
   "cell_type": "code",
   "execution_count": null,
   "metadata": {
    "id": "8tgWoLkWHqLw"
   },
   "outputs": [],
   "source": [
    "feature_imp = pd.DataFrame({'importance':boost_wage.feature_importances_},\n",
    "                           index = X_train.columns)\n",
    "feature_imp.sort_values(by='importance', ascending=False)"
   ]
  }
 ],
 "metadata": {
  "colab": {
   "provenance": []
  },
  "kernelspec": {
   "display_name": "Python 3 (ipykernel)",
   "language": "python",
   "name": "python3"
  },
  "language_info": {
   "codemirror_mode": {
    "name": "ipython",
    "version": 3
   },
   "file_extension": ".py",
   "mimetype": "text/x-python",
   "name": "python",
   "nbconvert_exporter": "python",
   "pygments_lexer": "ipython3",
   "version": "3.9.13"
  }
 },
 "nbformat": 4,
 "nbformat_minor": 1
}
